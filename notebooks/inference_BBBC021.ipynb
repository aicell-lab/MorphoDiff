{
 "cells": [
  {
   "cell_type": "code",
   "execution_count": 22,
   "metadata": {},
   "outputs": [
    {
     "name": "stderr",
     "output_type": "stream",
     "text": [
      "The config attributes {'decay': 0.9999, 'inv_gamma': 1.0, 'min_decay': 0.0, 'optimization_step': 500, 'power': 0.6666666666666666, 'update_after_step': 0, 'use_ema_warmup': False} were passed to UNet2DConditionModel, but are not expected and will be ignored. Please verify your config.json configuration file.\n"
     ]
    },
    {
     "name": "stderr",
     "output_type": "stream",
     "text": [
      "/proj/aicell/users/x_aleho/conda_envs/morphodiff/lib/python3.10/site-packages/transformers/models/clip/feature_extraction_clip.py:28: FutureWarning: The class CLIPFeatureExtractor is deprecated and will be removed in version 5 of Transformers. Please use CLIPImageProcessor instead.\n",
      "  warnings.warn(\n"
     ]
    }
   ],
   "source": [
    "import torch\n",
    "import diffusers\n",
    "from diffusers import AutoencoderKL, DDPMScheduler, StableDiffusionPipeline, UNet2DConditionModel\n",
    "from transformers import AutoFeatureExtractor\n",
    "from morphodiff.train import CustomStableDiffusionPipeline\n",
    "from morphodiff.perturbation_encoder import PerturbationEncoderInference\n",
    "\n",
    "# device = torch.device(\"cuda\" if torch.cuda.is_available() else \"cpu\")\n",
    "device = torch.device(\"cpu\")\n",
    "\n",
    "# Path to the checkpoint folder you unzipped:\n",
    "#   bbbc021_14_compounds_morphodiff_ckpt/checkpoint\n",
    "ckpt_path = \"/proj/aicell/users/x_aleho/MorphoDiff/models/bbbc021_14_compounds_morphodiff_ckpt/checkpoint\"\n",
    "\n",
    "unet = UNet2DConditionModel.from_pretrained(\n",
    "    ckpt_path, \n",
    "    subfolder=\"unet_ema\"\n",
    ")\n",
    "\n",
    "vae = AutoencoderKL.from_pretrained(\n",
    "    ckpt_path, \n",
    "    subfolder=\"vae\"\n",
    ")\n",
    "\n",
    "scheduler = DDPMScheduler.from_pretrained(\n",
    "    ckpt_path, \n",
    "    subfolder=\"scheduler\"\n",
    ")\n",
    "\n",
    "\n",
    "feature_extractor = AutoFeatureExtractor.from_pretrained(\n",
    "    ckpt_path + \"/feature_extractor\"\n",
    ")\n",
    "\n",
    "# 5. Create the custom text/perturbation encoder for BBBC021\n",
    "#    (just as MorphoDiff does, e.g. 'conditional' mode, \n",
    "#    dataset_id = \"BBBC021_experiment_01_resized\", etc.)\n",
    "perturbation_encoder = PerturbationEncoderInference(\n",
    "    dataset_id=\"BBBC021_experiment_01_resized\",  # adjust if needed\n",
    "    model_type=\"conditional\", \n",
    "    model_name=\"SD\"\n",
    ")\n",
    "\n",
    "pipeline = CustomStableDiffusionPipeline(\n",
    "    vae=vae,\n",
    "    unet=unet,\n",
    "    text_encoder=perturbation_encoder,   # Replaces usual CLIP text encoder\n",
    "    feature_extractor=feature_extractor,\n",
    "    scheduler=scheduler,\n",
    "    # No safety_checker by default in MorphoDiff, so set safety_checker=None\n",
    "    safety_checker=None\n",
    ")\n",
    "\n",
    "pipeline = pipeline.to(device)"
   ]
  },
  {
   "cell_type": "code",
   "execution_count": null,
   "metadata": {},
   "outputs": [
    {
     "name": "stderr",
     "output_type": "stream",
     "text": [
      "  0%|          | 0/50 [00:00<?, ?it/s]"
     ]
    }
   ],
   "source": [
    "import torch\n",
    "import matplotlib.pyplot as plt\n",
    "\n",
    "# Move the pipeline to that device\n",
    "pipeline = pipeline.to(device)\n",
    "\n",
    "# Set a compound name\n",
    "prompt = \"aphidicolin\"\n",
    "\n",
    "# Optional: fix a seed for reproducibility, on the correct device\n",
    "generator = torch.Generator(device=device).manual_seed(42)\n",
    "\n",
    "# Run inference\n",
    "with torch.autocast(device.type):\n",
    "    output = pipeline(prompt, generator=generator, guidance_scale=1.0)\n",
    "\n",
    "image = output.images[0]\n",
    "\n",
    "# Display inline\n",
    "plt.figure(figsize=(6, 6))\n",
    "plt.imshow(image)\n",
    "plt.axis(\"off\")\n",
    "plt.title(f\"Generated for '{prompt}'\")\n",
    "plt.show()"
   ]
  }
 ],
 "metadata": {
  "kernelspec": {
   "display_name": "morphodiff",
   "language": "python",
   "name": "python3"
  },
  "language_info": {
   "codemirror_mode": {
    "name": "ipython",
    "version": 3
   },
   "file_extension": ".py",
   "mimetype": "text/x-python",
   "name": "python",
   "nbconvert_exporter": "python",
   "pygments_lexer": "ipython3",
   "version": "3.10.16"
  }
 },
 "nbformat": 4,
 "nbformat_minor": 2
}
